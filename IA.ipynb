{
 "cells": [
  {
   "cell_type": "code",
   "execution_count": 10,
   "metadata": {},
   "outputs": [
    {
     "name": "stdout",
     "output_type": "stream",
     "text": [
      "Epoch 1/10\n",
      "6000/6000 [==============================] - 14s 2ms/step - loss: 0.3499 - accuracy: 0.9015\n",
      "Epoch 2/10\n",
      "6000/6000 [==============================] - 17s 3ms/step - loss: 0.1444 - accuracy: 0.9574\n",
      "Epoch 3/10\n",
      "6000/6000 [==============================] - 16s 3ms/step - loss: 0.0997 - accuracy: 0.9697\n",
      "Epoch 4/10\n",
      "6000/6000 [==============================] - 17s 3ms/step - loss: 0.0735 - accuracy: 0.9784\n",
      "Epoch 5/10\n",
      "6000/6000 [==============================] - 16s 3ms/step - loss: 0.0570 - accuracy: 0.9828\n",
      "Epoch 6/10\n",
      "6000/6000 [==============================] - 16s 3ms/step - loss: 0.0453 - accuracy: 0.9867\n",
      "Epoch 7/10\n",
      "6000/6000 [==============================] - 16s 3ms/step - loss: 0.0350 - accuracy: 0.9901\n",
      "Epoch 8/10\n",
      "6000/6000 [==============================] - 16s 3ms/step - loss: 0.0278 - accuracy: 0.9918\n",
      "Epoch 9/10\n",
      "6000/6000 [==============================] - 16s 3ms/step - loss: 0.0225 - accuracy: 0.9940\n",
      "Epoch 10/10\n",
      "6000/6000 [==============================] - 16s 3ms/step - loss: 0.0166 - accuracy: 0.9957\n",
      "313/313 [==============================] - 1s 2ms/step - loss: 0.0632 - accuracy: 0.9795\n",
      "Test loss: 0.06316912919282913\n",
      "Test accuracy: 0.9794999957084656\n"
     ]
    }
   ],
   "source": [
    "import tensorflow as tf\n",
    "\n",
    "mnist = tf.keras.datasets.mnist\n",
    "\n",
    "(x_train, y_train), (x_test, y_test) = mnist.load_data()\n",
    "x_train = x_train.reshape(x_train.shape[0], 784).astype('float32') / 255\n",
    "x_test = x_test.reshape(x_test.shape[0], 784).astype('float32') / 255\n",
    "\n",
    "learning_rate = 0.01\n",
    "batch_size = 10\n",
    "update_step = 10\n",
    "\n",
    "layer_1_nodes = 500\n",
    "layer_2_nodes = 500\n",
    "layer_3_nodes = 500\n",
    "output_nodes = 10\n",
    "\n",
    "model_input = tf.keras.layers.Input(shape=(784,))\n",
    "layer_1 = tf.keras.layers.Dense(layer_1_nodes, activation='relu')(model_input)\n",
    "layer_2 = tf.keras.layers.Dense(layer_2_nodes, activation='relu')(layer_1)\n",
    "layer_3 = tf.keras.layers.Dense(layer_3_nodes, activation='relu')(layer_2)\n",
    "model_output = tf.keras.layers.Dense(output_nodes, activation='softmax')(layer_3)\n",
    "\n",
    "model = tf.keras.Model(inputs=model_input, outputs=model_output)\n",
    "\n",
    "optimizer = tf.keras.optimizers.SGD(learning_rate)\n",
    "\n",
    "model.compile(optimizer=optimizer, loss='sparse_categorical_crossentropy', metrics=['accuracy'])\n",
    "\n",
    "num_epochs = 10\n",
    "model.fit(x_train, y_train, epochs=num_epochs, batch_size=batch_size)\n",
    "\n",
    "test_loss, test_accuracy = model.evaluate(x_test, y_test)\n",
    "\n",
    "print(\"Test loss:\", test_loss)\n",
    "print(\"Test accuracy:\", test_accuracy)\n",
    "\n",
    "\n"
   ]
  }
 ],
 "metadata": {
  "kernelspec": {
   "display_name": "Python 3",
   "language": "python",
   "name": "python3"
  },
  "language_info": {
   "codemirror_mode": {
    "name": "ipython",
    "version": 3
   },
   "file_extension": ".py",
   "mimetype": "text/x-python",
   "name": "python",
   "nbconvert_exporter": "python",
   "pygments_lexer": "ipython3",
   "version": "3.11.3"
  },
  "orig_nbformat": 4
 },
 "nbformat": 4,
 "nbformat_minor": 2
}
